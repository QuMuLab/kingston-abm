{
 "cells": [
  {
   "cell_type": "markdown",
   "id": "8d24cebf",
   "metadata": {},
   "source": [
    "# Interactive Simulation\n",
    "This Jupyter Notebook serves as a configuration system for the Interactive Covi19Simulation system. Place parameter file where the simulator expects it to be. I.E, `../configs`\n",
    "\n",
    "## config"
   ]
  },
  {
   "cell_type": "code",
   "execution_count": null,
   "id": "65a9e7fc",
   "metadata": {},
   "outputs": [],
   "source": [
    "# confirm that the config file exists where it is expected to be.\n",
    "!ls ../configs"
   ]
  },
  {
   "cell_type": "code",
   "execution_count": null,
   "id": "01f6f28b",
   "metadata": {},
   "outputs": [],
   "source": [
    "# copy the above configuration into our simulator (change the config name)\n",
    "!cp ../configs/kingston_0xdfc056a4fdb804e60e964b2cc5aae6ea.yml ~/COVI-AgentSim/src/covid19sim/configs/simulation/region/kingston0xdfc056a4fdb804e60e964b2cc5aae6ea.yaml\n",
    "!ls ~/COVI-AgentSim/src/covid19sim/configs/simulation/region"
   ]
  },
  {
   "cell_type": "markdown",
   "id": "0b033e0e",
   "metadata": {},
   "source": [
    "Set track to 'all' to write individual-level data to a file, for all individuals once per simulation-hour"
   ]
  },
  {
   "cell_type": "code",
   "execution_count": null,
   "id": "c5c12ea5",
   "metadata": {},
   "outputs": [],
   "source": [
    "# define configs\n",
    "args_dict = {'region': 'kingston0xdfc056a4fdb804e60e964b2cc5aae6ea',\n",
    "        'n_people': 3000,\n",
    "        'simulation_days': 60,\n",
    "        'init_fraction_sick': 0.002,\n",
    "        'N_BEHAVIOR_LEVELS': 2,\n",
    "        'intervention': 'no_intervention',\n",
    "        'tune': True,\n",
    "        'track': 'light',\n",
    "        'GLOBAL_MOBILITY_SCALING_FACTOR': 0.85,\n",
    "        'APP_UPTAKE': -1,\n",
    "        'USE_INFERENCE_SERVER': False,\n",
    "        'INTERVENTION_DAY': -1,\n",
    "        'track': 'all'}\n",
    "\n",
    "args_str = ' '.join([f'{k}={v}' for k, v in args_dict.items()])\n",
    "seed = 1984\n",
    "\n",
    "import random\n",
    "run_id = hex(random.getrandbits(128))\n",
    "\n",
    "args_str, seed, run_id"
   ]
  },
  {
   "cell_type": "code",
   "execution_count": null,
   "id": "d461cd0a",
   "metadata": {},
   "outputs": [],
   "source": [
    "# invocation command\n",
    "command_str = f'/opt/conda/bin/conda run -n covisim python ~/COVI-AgentSim/src/InterSim/main.py seed={seed} outdir=/src/experiments/data/{run_id} {args_str}\\n'\n",
    "\n",
    "command_str"
   ]
  },
  {
   "cell_type": "markdown",
   "id": "feb9aba0",
   "metadata": {},
   "source": [
    "## Run the simulation server\n",
    "run the following cell to start the server."
   ]
  },
  {
   "cell_type": "code",
   "execution_count": null,
   "id": "c968b162",
   "metadata": {},
   "outputs": [],
   "source": [
    "import subprocess\n",
    "subprocess.run(command_str, shell=True, capture_output=True)"
   ]
  }
 ],
 "metadata": {
  "kernelspec": {
   "display_name": "Python 3 (ipykernel)",
   "language": "python",
   "name": "python3"
  },
  "language_info": {
   "codemirror_mode": {
    "name": "ipython",
    "version": 3
   },
   "file_extension": ".py",
   "mimetype": "text/x-python",
   "name": "python",
   "nbconvert_exporter": "python",
   "pygments_lexer": "ipython3",
   "version": "3.7.4"
  }
 },
 "nbformat": 4,
 "nbformat_minor": 5
}
